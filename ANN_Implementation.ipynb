{
  "nbformat": 4,
  "nbformat_minor": 0,
  "metadata": {
    "colab": {
      "provenance": [],
      "authorship_tag": "ABX9TyMXmds8JU3qnQaOvZ5MVYgx",
      "include_colab_link": true
    },
    "kernelspec": {
      "name": "python3",
      "display_name": "Python 3"
    },
    "language_info": {
      "name": "python"
    }
  },
  "cells": [
    {
      "cell_type": "markdown",
      "metadata": {
        "id": "view-in-github",
        "colab_type": "text"
      },
      "source": [
        "<a href=\"https://colab.research.google.com/github/riteshmishra7/ML-LAB/blob/main/ANN_Implementation.ipynb\" target=\"_parent\"><img src=\"https://colab.research.google.com/assets/colab-badge.svg\" alt=\"Open In Colab\"/></a>"
      ]
    },
    {
      "cell_type": "code",
      "execution_count": null,
      "metadata": {
        "id": "TVw5Af0PbKZE"
      },
      "outputs": [],
      "source": [
        "Loading the MNIST dataset in Keras"
      ]
    },
    {
      "cell_type": "code",
      "source": [
        "from keras.datasets import mnist\n",
        "(train_images, train_labels), (test_images, test_labels) = mnist.load_data()"
      ],
      "metadata": {
        "id": "hNtoVvUBbuXu"
      },
      "execution_count": 3,
      "outputs": []
    },
    {
      "cell_type": "code",
      "source": [
        "train_images.shape\n",
        "len(train_labels)\n",
        "train_labels\n",
        "test_images.shape\n",
        "len(test_labels)\n",
        "test_labels\n"
      ],
      "metadata": {
        "colab": {
          "base_uri": "https://localhost:8080/"
        },
        "id": "Tp6z8A1Wb9d3",
        "outputId": "ca7c99cd-cd71-43b7-a663-f3a16c118ae6"
      },
      "execution_count": 4,
      "outputs": [
        {
          "output_type": "execute_result",
          "data": {
            "text/plain": [
              "array([7, 2, 1, ..., 4, 5, 6], dtype=uint8)"
            ]
          },
          "metadata": {},
          "execution_count": 4
        }
      ]
    },
    {
      "cell_type": "markdown",
      "source": [
        "The network architecture\n"
      ],
      "metadata": {
        "id": "Mz5T20hwcBt2"
      }
    },
    {
      "cell_type": "code",
      "source": [
        "from keras import models\n",
        "from keras import layers\n",
        "network = models.Sequential()\n",
        "# Dense(32) is a fully-connected layer with 32 hidden units.\n",
        "# in the first layer, you must specify the expected input data shape :\n",
        "# here, 28 X 28=784 -dimensional vectors.\n",
        "network.add(layers.Dense(32, activation='sigmoid', input_shape=(28 * 28, )))\n",
        "network.add(layers.Dense(8, activation='sigmoid'))\n",
        "network.add(layers.Dense(10, activation='softmax'))\n",
        "network.summary()\n",
        "from google.colab import drive\n",
        "drive.mount('/content/drive')"
      ],
      "metadata": {
        "colab": {
          "base_uri": "https://localhost:8080/"
        },
        "id": "gbe33K0xcDyO",
        "outputId": "ddb53cd0-8bc6-4d09-d6c4-c18f21cbf356"
      },
      "execution_count": 5,
      "outputs": [
        {
          "output_type": "stream",
          "name": "stdout",
          "text": [
            "Model: \"sequential\"\n",
            "_________________________________________________________________\n",
            " Layer (type)                Output Shape              Param #   \n",
            "=================================================================\n",
            " dense (Dense)               (None, 32)                25120     \n",
            "                                                                 \n",
            " dense_1 (Dense)             (None, 8)                 264       \n",
            "                                                                 \n",
            " dense_2 (Dense)             (None, 10)                90        \n",
            "                                                                 \n",
            "=================================================================\n",
            "Total params: 25474 (99.51 KB)\n",
            "Trainable params: 25474 (99.51 KB)\n",
            "Non-trainable params: 0 (0.00 Byte)\n",
            "_________________________________________________________________\n",
            "Mounted at /content/drive\n"
          ]
        }
      ]
    },
    {
      "cell_type": "code",
      "source": [
        "network.compile(optimizer='sgd',\n",
        "                loss='categorical_crossentropy',\n",
        "                metrics=['accuracy'])"
      ],
      "metadata": {
        "id": "8lsx8jQZcXjX"
      },
      "execution_count": 6,
      "outputs": []
    },
    {
      "cell_type": "code",
      "source": [
        "train_images = train_images.reshape((60000, 28 * 28))\n",
        "train_images = train_images.astype('float32') / 255.\n",
        "test_images = test_images.reshape((10000, 28 * 28))\n",
        "test_images = test_images.astype('float32') / 255."
      ],
      "metadata": {
        "id": "J8p6ysUVcbmt"
      },
      "execution_count": 7,
      "outputs": []
    },
    {
      "cell_type": "code",
      "source": [
        "from keras.utils import to_categorical\n",
        "train_labels = to_categorical(train_labels)\n",
        "train_labels\n",
        "test_labels = to_categorical(test_labels)\n",
        "test_labels\n"
      ],
      "metadata": {
        "colab": {
          "base_uri": "https://localhost:8080/"
        },
        "id": "VSll9LJvcfRl",
        "outputId": "daed9d64-58fc-4b42-c4de-1d4ee478e4a1"
      },
      "execution_count": 8,
      "outputs": [
        {
          "output_type": "execute_result",
          "data": {
            "text/plain": [
              "array([[0., 0., 0., ..., 1., 0., 0.],\n",
              "       [0., 0., 1., ..., 0., 0., 0.],\n",
              "       [0., 1., 0., ..., 0., 0., 0.],\n",
              "       ...,\n",
              "       [0., 0., 0., ..., 0., 0., 0.],\n",
              "       [0., 0., 0., ..., 0., 0., 0.],\n",
              "       [0., 0., 0., ..., 0., 0., 0.]], dtype=float32)"
            ]
          },
          "metadata": {},
          "execution_count": 8
        }
      ]
    },
    {
      "cell_type": "code",
      "source": [
        "network.fit(train_images, train_labels, epochs=160, batch_size=512)"
      ],
      "metadata": {
        "colab": {
          "base_uri": "https://localhost:8080/"
        },
        "id": "a20uL9OYcjId",
        "outputId": "eb51ae23-683e-4a7c-b83b-b3379ae6ea79"
      },
      "execution_count": 9,
      "outputs": [
        {
          "output_type": "stream",
          "name": "stdout",
          "text": [
            "Epoch 1/160\n",
            "118/118 [==============================] - 1s 6ms/step - loss: 2.3668 - accuracy: 0.0909\n",
            "Epoch 2/160\n",
            "118/118 [==============================] - 1s 8ms/step - loss: 2.3225 - accuracy: 0.1091\n",
            "Epoch 3/160\n",
            "118/118 [==============================] - 1s 5ms/step - loss: 2.2998 - accuracy: 0.1093\n",
            "Epoch 4/160\n",
            "118/118 [==============================] - 1s 5ms/step - loss: 2.2857 - accuracy: 0.1167\n",
            "Epoch 5/160\n",
            "118/118 [==============================] - 1s 5ms/step - loss: 2.2754 - accuracy: 0.2215\n",
            "Epoch 6/160\n",
            "118/118 [==============================] - 1s 5ms/step - loss: 2.2666 - accuracy: 0.2372\n",
            "Epoch 7/160\n",
            "118/118 [==============================] - 1s 6ms/step - loss: 2.2582 - accuracy: 0.2392\n",
            "Epoch 8/160\n",
            "118/118 [==============================] - 1s 7ms/step - loss: 2.2497 - accuracy: 0.2785\n",
            "Epoch 9/160\n",
            "118/118 [==============================] - 1s 7ms/step - loss: 2.2410 - accuracy: 0.3126\n",
            "Epoch 10/160\n",
            "118/118 [==============================] - 1s 7ms/step - loss: 2.2318 - accuracy: 0.3415\n",
            "Epoch 11/160\n",
            "118/118 [==============================] - 1s 7ms/step - loss: 2.2220 - accuracy: 0.3550\n",
            "Epoch 12/160\n",
            "118/118 [==============================] - 1s 6ms/step - loss: 2.2117 - accuracy: 0.3685\n",
            "Epoch 13/160\n",
            "118/118 [==============================] - 1s 5ms/step - loss: 2.2007 - accuracy: 0.3785\n",
            "Epoch 14/160\n",
            "118/118 [==============================] - 1s 5ms/step - loss: 2.1891 - accuracy: 0.3886\n",
            "Epoch 15/160\n",
            "118/118 [==============================] - 1s 5ms/step - loss: 2.1768 - accuracy: 0.3967\n",
            "Epoch 16/160\n",
            "118/118 [==============================] - 1s 4ms/step - loss: 2.1638 - accuracy: 0.4088\n",
            "Epoch 17/160\n",
            "118/118 [==============================] - 1s 5ms/step - loss: 2.1502 - accuracy: 0.4138\n",
            "Epoch 18/160\n",
            "118/118 [==============================] - 1s 5ms/step - loss: 2.1360 - accuracy: 0.4213\n",
            "Epoch 19/160\n",
            "118/118 [==============================] - 1s 5ms/step - loss: 2.1212 - accuracy: 0.4258\n",
            "Epoch 20/160\n",
            "118/118 [==============================] - 1s 5ms/step - loss: 2.1059 - accuracy: 0.4334\n",
            "Epoch 21/160\n",
            "118/118 [==============================] - 1s 5ms/step - loss: 2.0901 - accuracy: 0.4361\n",
            "Epoch 22/160\n",
            "118/118 [==============================] - 1s 5ms/step - loss: 2.0740 - accuracy: 0.4418\n",
            "Epoch 23/160\n",
            "118/118 [==============================] - 1s 5ms/step - loss: 2.0575 - accuracy: 0.4447\n",
            "Epoch 24/160\n",
            "118/118 [==============================] - 1s 5ms/step - loss: 2.0408 - accuracy: 0.4497\n",
            "Epoch 25/160\n",
            "118/118 [==============================] - 1s 4ms/step - loss: 2.0239 - accuracy: 0.4555\n",
            "Epoch 26/160\n",
            "118/118 [==============================] - 1s 5ms/step - loss: 2.0068 - accuracy: 0.4584\n",
            "Epoch 27/160\n",
            "118/118 [==============================] - 1s 5ms/step - loss: 1.9897 - accuracy: 0.4630\n",
            "Epoch 28/160\n",
            "118/118 [==============================] - 1s 5ms/step - loss: 1.9724 - accuracy: 0.4689\n",
            "Epoch 29/160\n",
            "118/118 [==============================] - 1s 5ms/step - loss: 1.9552 - accuracy: 0.4757\n",
            "Epoch 30/160\n",
            "118/118 [==============================] - 1s 6ms/step - loss: 1.9378 - accuracy: 0.4837\n",
            "Epoch 31/160\n",
            "118/118 [==============================] - 1s 7ms/step - loss: 1.9204 - accuracy: 0.4899\n",
            "Epoch 32/160\n",
            "118/118 [==============================] - 1s 7ms/step - loss: 1.9030 - accuracy: 0.4979\n",
            "Epoch 33/160\n",
            "118/118 [==============================] - 1s 7ms/step - loss: 1.8855 - accuracy: 0.5049\n",
            "Epoch 34/160\n",
            "118/118 [==============================] - 1s 7ms/step - loss: 1.8680 - accuracy: 0.5124\n",
            "Epoch 35/160\n",
            "118/118 [==============================] - 1s 6ms/step - loss: 1.8503 - accuracy: 0.5209\n",
            "Epoch 36/160\n",
            "118/118 [==============================] - 1s 5ms/step - loss: 1.8325 - accuracy: 0.5276\n",
            "Epoch 37/160\n",
            "118/118 [==============================] - 1s 5ms/step - loss: 1.8146 - accuracy: 0.5352\n",
            "Epoch 38/160\n",
            "118/118 [==============================] - 1s 5ms/step - loss: 1.7966 - accuracy: 0.5436\n",
            "Epoch 39/160\n",
            "118/118 [==============================] - 1s 5ms/step - loss: 1.7784 - accuracy: 0.5499\n",
            "Epoch 40/160\n",
            "118/118 [==============================] - 1s 5ms/step - loss: 1.7601 - accuracy: 0.5571\n",
            "Epoch 41/160\n",
            "118/118 [==============================] - 1s 4ms/step - loss: 1.7417 - accuracy: 0.5641\n",
            "Epoch 42/160\n",
            "118/118 [==============================] - 1s 5ms/step - loss: 1.7231 - accuracy: 0.5681\n",
            "Epoch 43/160\n",
            "118/118 [==============================] - 1s 4ms/step - loss: 1.7044 - accuracy: 0.5748\n",
            "Epoch 44/160\n",
            "118/118 [==============================] - 1s 5ms/step - loss: 1.6856 - accuracy: 0.5798\n",
            "Epoch 45/160\n",
            "118/118 [==============================] - 1s 5ms/step - loss: 1.6667 - accuracy: 0.5859\n",
            "Epoch 46/160\n",
            "118/118 [==============================] - 1s 5ms/step - loss: 1.6478 - accuracy: 0.5898\n",
            "Epoch 47/160\n",
            "118/118 [==============================] - 1s 4ms/step - loss: 1.6288 - accuracy: 0.5946\n",
            "Epoch 48/160\n",
            "118/118 [==============================] - 1s 5ms/step - loss: 1.6098 - accuracy: 0.5997\n",
            "Epoch 49/160\n",
            "118/118 [==============================] - 1s 5ms/step - loss: 1.5908 - accuracy: 0.6035\n",
            "Epoch 50/160\n",
            "118/118 [==============================] - 1s 5ms/step - loss: 1.5719 - accuracy: 0.6078\n",
            "Epoch 51/160\n",
            "118/118 [==============================] - 1s 5ms/step - loss: 1.5530 - accuracy: 0.6116\n",
            "Epoch 52/160\n",
            "118/118 [==============================] - 1s 5ms/step - loss: 1.5343 - accuracy: 0.6153\n",
            "Epoch 53/160\n",
            "118/118 [==============================] - 1s 6ms/step - loss: 1.5157 - accuracy: 0.6198\n",
            "Epoch 54/160\n",
            "118/118 [==============================] - 1s 7ms/step - loss: 1.4972 - accuracy: 0.6238\n",
            "Epoch 55/160\n",
            "118/118 [==============================] - 1s 7ms/step - loss: 1.4790 - accuracy: 0.6278\n",
            "Epoch 56/160\n",
            "118/118 [==============================] - 1s 7ms/step - loss: 1.4609 - accuracy: 0.6309\n",
            "Epoch 57/160\n",
            "118/118 [==============================] - 1s 7ms/step - loss: 1.4430 - accuracy: 0.6341\n",
            "Epoch 58/160\n",
            "118/118 [==============================] - 1s 5ms/step - loss: 1.4254 - accuracy: 0.6377\n",
            "Epoch 59/160\n",
            "118/118 [==============================] - 1s 5ms/step - loss: 1.4080 - accuracy: 0.6411\n",
            "Epoch 60/160\n",
            "118/118 [==============================] - 1s 5ms/step - loss: 1.3909 - accuracy: 0.6454\n",
            "Epoch 61/160\n",
            "118/118 [==============================] - 1s 5ms/step - loss: 1.3740 - accuracy: 0.6491\n",
            "Epoch 62/160\n",
            "118/118 [==============================] - 1s 5ms/step - loss: 1.3574 - accuracy: 0.6522\n",
            "Epoch 63/160\n",
            "118/118 [==============================] - 1s 5ms/step - loss: 1.3411 - accuracy: 0.6553\n",
            "Epoch 64/160\n",
            "118/118 [==============================] - 1s 5ms/step - loss: 1.3250 - accuracy: 0.6594\n",
            "Epoch 65/160\n",
            "118/118 [==============================] - 1s 5ms/step - loss: 1.3093 - accuracy: 0.6617\n",
            "Epoch 66/160\n",
            "118/118 [==============================] - 1s 5ms/step - loss: 1.2938 - accuracy: 0.6655\n",
            "Epoch 67/160\n",
            "118/118 [==============================] - 1s 5ms/step - loss: 1.2786 - accuracy: 0.6695\n",
            "Epoch 68/160\n",
            "118/118 [==============================] - 1s 5ms/step - loss: 1.2637 - accuracy: 0.6738\n",
            "Epoch 69/160\n",
            "118/118 [==============================] - 1s 5ms/step - loss: 1.2491 - accuracy: 0.6769\n",
            "Epoch 70/160\n",
            "118/118 [==============================] - 1s 5ms/step - loss: 1.2347 - accuracy: 0.6804\n",
            "Epoch 71/160\n",
            "118/118 [==============================] - 1s 5ms/step - loss: 1.2206 - accuracy: 0.6852\n",
            "Epoch 72/160\n",
            "118/118 [==============================] - 1s 5ms/step - loss: 1.2068 - accuracy: 0.6872\n",
            "Epoch 73/160\n",
            "118/118 [==============================] - 1s 5ms/step - loss: 1.1932 - accuracy: 0.6907\n",
            "Epoch 74/160\n",
            "118/118 [==============================] - 1s 5ms/step - loss: 1.1799 - accuracy: 0.6941\n",
            "Epoch 75/160\n",
            "118/118 [==============================] - 1s 5ms/step - loss: 1.1669 - accuracy: 0.6972\n",
            "Epoch 76/160\n",
            "118/118 [==============================] - 1s 7ms/step - loss: 1.1541 - accuracy: 0.7002\n",
            "Epoch 77/160\n",
            "118/118 [==============================] - 1s 7ms/step - loss: 1.1415 - accuracy: 0.7036\n",
            "Epoch 78/160\n",
            "118/118 [==============================] - 1s 7ms/step - loss: 1.1292 - accuracy: 0.7067\n",
            "Epoch 79/160\n",
            "118/118 [==============================] - 1s 7ms/step - loss: 1.1171 - accuracy: 0.7100\n",
            "Epoch 80/160\n",
            "118/118 [==============================] - 1s 7ms/step - loss: 1.1053 - accuracy: 0.7129\n",
            "Epoch 81/160\n",
            "118/118 [==============================] - 1s 5ms/step - loss: 1.0936 - accuracy: 0.7168\n",
            "Epoch 82/160\n",
            "118/118 [==============================] - 1s 5ms/step - loss: 1.0822 - accuracy: 0.7197\n",
            "Epoch 83/160\n",
            "118/118 [==============================] - 1s 5ms/step - loss: 1.0710 - accuracy: 0.7232\n",
            "Epoch 84/160\n",
            "118/118 [==============================] - 1s 5ms/step - loss: 1.0600 - accuracy: 0.7258\n",
            "Epoch 85/160\n",
            "118/118 [==============================] - 1s 5ms/step - loss: 1.0492 - accuracy: 0.7284\n",
            "Epoch 86/160\n",
            "118/118 [==============================] - 1s 5ms/step - loss: 1.0386 - accuracy: 0.7310\n",
            "Epoch 87/160\n",
            "118/118 [==============================] - 1s 5ms/step - loss: 1.0282 - accuracy: 0.7337\n",
            "Epoch 88/160\n",
            "118/118 [==============================] - 1s 5ms/step - loss: 1.0180 - accuracy: 0.7372\n",
            "Epoch 89/160\n",
            "118/118 [==============================] - 1s 5ms/step - loss: 1.0080 - accuracy: 0.7393\n",
            "Epoch 90/160\n",
            "118/118 [==============================] - 1s 5ms/step - loss: 0.9981 - accuracy: 0.7417\n",
            "Epoch 91/160\n",
            "118/118 [==============================] - 1s 5ms/step - loss: 0.9884 - accuracy: 0.7448\n",
            "Epoch 92/160\n",
            "118/118 [==============================] - 1s 4ms/step - loss: 0.9789 - accuracy: 0.7476\n",
            "Epoch 93/160\n",
            "118/118 [==============================] - 1s 5ms/step - loss: 0.9696 - accuracy: 0.7503\n",
            "Epoch 94/160\n",
            "118/118 [==============================] - 1s 5ms/step - loss: 0.9605 - accuracy: 0.7531\n",
            "Epoch 95/160\n",
            "118/118 [==============================] - 1s 5ms/step - loss: 0.9515 - accuracy: 0.7558\n",
            "Epoch 96/160\n",
            "118/118 [==============================] - 1s 4ms/step - loss: 0.9426 - accuracy: 0.7579\n",
            "Epoch 97/160\n",
            "118/118 [==============================] - 1s 5ms/step - loss: 0.9340 - accuracy: 0.7603\n",
            "Epoch 98/160\n",
            "118/118 [==============================] - 1s 5ms/step - loss: 0.9255 - accuracy: 0.7625\n",
            "Epoch 99/160\n",
            "118/118 [==============================] - 1s 11ms/step - loss: 0.9171 - accuracy: 0.7653\n",
            "Epoch 100/160\n",
            "118/118 [==============================] - 1s 7ms/step - loss: 0.9089 - accuracy: 0.7679\n",
            "Epoch 101/160\n",
            "118/118 [==============================] - 1s 7ms/step - loss: 0.9009 - accuracy: 0.7700\n",
            "Epoch 102/160\n",
            "118/118 [==============================] - 1s 7ms/step - loss: 0.8930 - accuracy: 0.7727\n",
            "Epoch 103/160\n",
            "118/118 [==============================] - 1s 6ms/step - loss: 0.8852 - accuracy: 0.7749\n",
            "Epoch 104/160\n",
            "118/118 [==============================] - 1s 5ms/step - loss: 0.8776 - accuracy: 0.7763\n",
            "Epoch 105/160\n",
            "118/118 [==============================] - 1s 5ms/step - loss: 0.8701 - accuracy: 0.7788\n",
            "Epoch 106/160\n",
            "118/118 [==============================] - 1s 5ms/step - loss: 0.8628 - accuracy: 0.7802\n",
            "Epoch 107/160\n",
            "118/118 [==============================] - 1s 5ms/step - loss: 0.8556 - accuracy: 0.7828\n",
            "Epoch 108/160\n",
            "118/118 [==============================] - 1s 5ms/step - loss: 0.8486 - accuracy: 0.7847\n",
            "Epoch 109/160\n",
            "118/118 [==============================] - 1s 5ms/step - loss: 0.8416 - accuracy: 0.7860\n",
            "Epoch 110/160\n",
            "118/118 [==============================] - 1s 5ms/step - loss: 0.8348 - accuracy: 0.7877\n",
            "Epoch 111/160\n",
            "118/118 [==============================] - 1s 4ms/step - loss: 0.8282 - accuracy: 0.7894\n",
            "Epoch 112/160\n",
            "118/118 [==============================] - 1s 5ms/step - loss: 0.8216 - accuracy: 0.7914\n",
            "Epoch 113/160\n",
            "118/118 [==============================] - 1s 7ms/step - loss: 0.8152 - accuracy: 0.7933\n",
            "Epoch 114/160\n",
            "118/118 [==============================] - 1s 4ms/step - loss: 0.8089 - accuracy: 0.7947\n",
            "Epoch 115/160\n",
            "118/118 [==============================] - 1s 7ms/step - loss: 0.8028 - accuracy: 0.7964\n",
            "Epoch 116/160\n",
            "118/118 [==============================] - 1s 5ms/step - loss: 0.7967 - accuracy: 0.7986\n",
            "Epoch 117/160\n",
            "118/118 [==============================] - 1s 5ms/step - loss: 0.7908 - accuracy: 0.7993\n",
            "Epoch 118/160\n",
            "118/118 [==============================] - 1s 4ms/step - loss: 0.7849 - accuracy: 0.8010\n",
            "Epoch 119/160\n",
            "118/118 [==============================] - 1s 5ms/step - loss: 0.7792 - accuracy: 0.8026\n",
            "Epoch 120/160\n",
            "118/118 [==============================] - 1s 6ms/step - loss: 0.7736 - accuracy: 0.8036\n",
            "Epoch 121/160\n",
            "118/118 [==============================] - 1s 7ms/step - loss: 0.7681 - accuracy: 0.8052\n",
            "Epoch 122/160\n",
            "118/118 [==============================] - 1s 7ms/step - loss: 0.7627 - accuracy: 0.8064\n",
            "Epoch 123/160\n",
            "118/118 [==============================] - 1s 11ms/step - loss: 0.7574 - accuracy: 0.8073\n",
            "Epoch 124/160\n",
            "118/118 [==============================] - 1s 7ms/step - loss: 0.7522 - accuracy: 0.8091\n",
            "Epoch 125/160\n",
            "118/118 [==============================] - 1s 5ms/step - loss: 0.7471 - accuracy: 0.8098\n",
            "Epoch 126/160\n",
            "118/118 [==============================] - 1s 5ms/step - loss: 0.7421 - accuracy: 0.8112\n",
            "Epoch 127/160\n",
            "118/118 [==============================] - 1s 5ms/step - loss: 0.7372 - accuracy: 0.8124\n",
            "Epoch 128/160\n",
            "118/118 [==============================] - 1s 5ms/step - loss: 0.7323 - accuracy: 0.8135\n",
            "Epoch 129/160\n",
            "118/118 [==============================] - 1s 5ms/step - loss: 0.7276 - accuracy: 0.8146\n",
            "Epoch 130/160\n",
            "118/118 [==============================] - 1s 5ms/step - loss: 0.7229 - accuracy: 0.8158\n",
            "Epoch 131/160\n",
            "118/118 [==============================] - 1s 5ms/step - loss: 0.7183 - accuracy: 0.8168\n",
            "Epoch 132/160\n",
            "118/118 [==============================] - 1s 5ms/step - loss: 0.7138 - accuracy: 0.8180\n",
            "Epoch 133/160\n",
            "118/118 [==============================] - 1s 5ms/step - loss: 0.7094 - accuracy: 0.8190\n",
            "Epoch 134/160\n",
            "118/118 [==============================] - 1s 5ms/step - loss: 0.7051 - accuracy: 0.8198\n",
            "Epoch 135/160\n",
            "118/118 [==============================] - 1s 5ms/step - loss: 0.7008 - accuracy: 0.8209\n",
            "Epoch 136/160\n",
            "118/118 [==============================] - 1s 5ms/step - loss: 0.6966 - accuracy: 0.8221\n",
            "Epoch 137/160\n",
            "118/118 [==============================] - 1s 5ms/step - loss: 0.6925 - accuracy: 0.8230\n",
            "Epoch 138/160\n",
            "118/118 [==============================] - 1s 5ms/step - loss: 0.6884 - accuracy: 0.8242\n",
            "Epoch 139/160\n",
            "118/118 [==============================] - 1s 4ms/step - loss: 0.6845 - accuracy: 0.8252\n",
            "Epoch 140/160\n",
            "118/118 [==============================] - 1s 5ms/step - loss: 0.6805 - accuracy: 0.8259\n",
            "Epoch 141/160\n",
            "118/118 [==============================] - 1s 5ms/step - loss: 0.6767 - accuracy: 0.8268\n",
            "Epoch 142/160\n",
            "118/118 [==============================] - 1s 5ms/step - loss: 0.6729 - accuracy: 0.8280\n",
            "Epoch 143/160\n",
            "118/118 [==============================] - 1s 7ms/step - loss: 0.6691 - accuracy: 0.8289\n",
            "Epoch 144/160\n",
            "118/118 [==============================] - 1s 7ms/step - loss: 0.6655 - accuracy: 0.8298\n",
            "Epoch 145/160\n",
            "118/118 [==============================] - 1s 7ms/step - loss: 0.6618 - accuracy: 0.8307\n",
            "Epoch 146/160\n",
            "118/118 [==============================] - 1s 7ms/step - loss: 0.6583 - accuracy: 0.8315\n",
            "Epoch 147/160\n",
            "118/118 [==============================] - 1s 8ms/step - loss: 0.6548 - accuracy: 0.8324\n",
            "Epoch 148/160\n",
            "118/118 [==============================] - 1s 5ms/step - loss: 0.6513 - accuracy: 0.8331\n",
            "Epoch 149/160\n",
            "118/118 [==============================] - 1s 5ms/step - loss: 0.6479 - accuracy: 0.8345\n",
            "Epoch 150/160\n",
            "118/118 [==============================] - 1s 5ms/step - loss: 0.6445 - accuracy: 0.8349\n",
            "Epoch 151/160\n",
            "118/118 [==============================] - 1s 5ms/step - loss: 0.6412 - accuracy: 0.8357\n",
            "Epoch 152/160\n",
            "118/118 [==============================] - 1s 5ms/step - loss: 0.6380 - accuracy: 0.8364\n",
            "Epoch 153/160\n",
            "118/118 [==============================] - 1s 5ms/step - loss: 0.6348 - accuracy: 0.8374\n",
            "Epoch 154/160\n",
            "118/118 [==============================] - 1s 5ms/step - loss: 0.6316 - accuracy: 0.8382\n",
            "Epoch 155/160\n",
            "118/118 [==============================] - 1s 5ms/step - loss: 0.6285 - accuracy: 0.8390\n",
            "Epoch 156/160\n",
            "118/118 [==============================] - 1s 5ms/step - loss: 0.6254 - accuracy: 0.8397\n",
            "Epoch 157/160\n",
            "118/118 [==============================] - 1s 5ms/step - loss: 0.6224 - accuracy: 0.8407\n",
            "Epoch 158/160\n",
            "118/118 [==============================] - 1s 5ms/step - loss: 0.6194 - accuracy: 0.8411\n",
            "Epoch 159/160\n",
            "118/118 [==============================] - 1s 5ms/step - loss: 0.6165 - accuracy: 0.8419\n",
            "Epoch 160/160\n",
            "118/118 [==============================] - 1s 5ms/step - loss: 0.6136 - accuracy: 0.8425\n"
          ]
        },
        {
          "output_type": "execute_result",
          "data": {
            "text/plain": [
              "<keras.src.callbacks.History at 0x7f9c13a7b670>"
            ]
          },
          "metadata": {},
          "execution_count": 9
        }
      ]
    },
    {
      "cell_type": "code",
      "source": [
        "from keras.utils import plot_model\n",
        "plot_model(network, to_file='model.png')\n",
        "import matplotlib.pyplot as plt\n",
        "history =network.fit(train_images, train_labels, validation_split=0.33,epochs=5, batch_size=512)\n",
        "history_dict = history.history\n",
        "print(history_dict.keys())\n",
        "plt.plot(history.history['accuracy'])\n",
        "plt.plot(history.history['val_accuracy'])\n",
        "plt.title('Model accuracy')\n",
        "plt.ylabel('Accuracy')\n",
        "plt.xlabel('Epoch')\n",
        "plt.legend(['Train', 'Test'], loc='upper left')\n",
        "plt.show()\n",
        "\n",
        "\n",
        "# Plot training & validation loss values\n",
        "plt.plot(history.history['loss'])\n",
        "plt.plot(history.history['val_loss'])\n",
        "plt.title('Model loss')\n",
        "plt.ylabel('Loss')\n",
        "plt.xlabel('Epoch')\n",
        "plt.legend(['Train', 'Test'], loc='upper left')\n",
        "plt.show()\n"
      ],
      "metadata": {
        "colab": {
          "base_uri": "https://localhost:8080/",
          "height": 1000
        },
        "id": "kgAv1Er2dO5n",
        "outputId": "67a5a26d-d0f0-4e80-e8c4-6c6c3bd75adb"
      },
      "execution_count": 10,
      "outputs": [
        {
          "output_type": "stream",
          "name": "stdout",
          "text": [
            "Epoch 1/5\n",
            "79/79 [==============================] - 3s 37ms/step - loss: 0.6145 - accuracy: 0.8412 - val_loss: 0.6034 - val_accuracy: 0.8471\n",
            "Epoch 2/5\n",
            "79/79 [==============================] - 1s 18ms/step - loss: 0.6125 - accuracy: 0.8418 - val_loss: 0.6016 - val_accuracy: 0.8473\n",
            "Epoch 3/5\n",
            "79/79 [==============================] - 1s 16ms/step - loss: 0.6106 - accuracy: 0.8423 - val_loss: 0.5998 - val_accuracy: 0.8476\n",
            "Epoch 4/5\n",
            "79/79 [==============================] - 1s 9ms/step - loss: 0.6087 - accuracy: 0.8427 - val_loss: 0.5981 - val_accuracy: 0.8482\n",
            "Epoch 5/5\n",
            "79/79 [==============================] - 1s 12ms/step - loss: 0.6068 - accuracy: 0.8436 - val_loss: 0.5963 - val_accuracy: 0.8488\n",
            "dict_keys(['loss', 'accuracy', 'val_loss', 'val_accuracy'])\n"
          ]
        },
        {
          "output_type": "display_data",
          "data": {
            "text/plain": [
              "<Figure size 640x480 with 1 Axes>"
            ],
            "image/png": "[encoded data removed]"
          },
          "metadata": {}
        },
        {
          "output_type": "display_data",
          "data": {
            "text/plain": [
              "<Figure size 640x480 with 1 Axes>"
            ],
            "image/png": "[encoded data removed]"
          },
          "metadata": {}
        }
      ]
    },
    {
      "cell_type": "code",
      "source": [],
      "metadata": {
        "id": "MGS45wNgdW1m"
      },
      "execution_count": null,
      "outputs": []
    }
  ]
}